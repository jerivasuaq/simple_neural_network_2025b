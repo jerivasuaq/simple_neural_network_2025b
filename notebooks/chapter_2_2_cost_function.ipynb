{
 "cells": [
  {
   "cell_type": "markdown",
   "id": "1be9f1a8",
   "metadata": {},
   "source": [
    "# Cost functions"
   ]
  },
  {
   "cell_type": "markdown",
   "id": "2c177247",
   "metadata": {},
   "source": [
    "# Measuring \"Badness\": Cost Functions and Gradient Descent\n",
    "\n",
    "We know a neural network has thousands of parameters (weights and biases). But how does it \"learn\" the correct values for them? This notebook explores the two core concepts behind the learning process: **Cost Functions** and **Gradient Descent**.\n",
    "\n",
    "First, let's remember that a brand new network is just a collection of random numbers.\n",
    "<mark>And to start things off, we're just going to initialize all of those weights and biases totally randomly.</mark>\n",
    "\n",
    "As you'd expect, its initial performance is terrible. Let's see this in action."
   ]
  },
  {
   "cell_type": "code",
   "execution_count": null,
   "id": "097a44d0",
   "metadata": {},
   "outputs": [],
   "source": [
    "from utils import get_mnist_corrected\n",
    "\n",
    "x_train, y_train = get_mnist_corrected()\n",
    "\n",
    "# --- Simulate a random network's output ---\n",
    "# Get a sample image of a '3'\n",
    "sample_image = x_train[1]\n",
    "sample_label = y_train[1]\n",
    "\n",
    "# Initialize a random final layer (10 neurons) for demonstration\n",
    "random_weights = np.random.randn(784, 10)\n",
    "random_biases = np.random.randn(1, 10)\n",
    "\n",
    "# Flatten the image and make a prediction\n",
    "input_vector = sample_image.reshape(1, 784)\n",
    "output_activations = input_vector @ random_weights + random_biases\n",
    "\n",
    "# --- Visualize the \"messy\" output ---\n",
    "plt.figure(figsize=(8, 4))\n",
    "plt.bar(range(10), output_activations.flatten())\n",
    "plt.xticks(range(10))\n",
    "plt.title(f\"Random Network's Output for an Image of a '{sample_label}'\")\n",
    "plt.xlabel(\"Digit Neuron\")\n",
    "plt.ylabel(\"Activation Score\")\n",
    "plt.show()\n",
    "\n",
    "print(\"As the text says, the output layer just looks like a mess.\")"
   ]
  }
 ],
 "metadata": {
  "kernelspec": {
   "display_name": "Python 3",
   "language": "python",
   "name": "python3"
  },
  "language_info": {
   "codemirror_mode": {
    "name": "ipython",
    "version": 3
   },
   "file_extension": ".py",
   "mimetype": "text/x-python",
   "name": "python",
   "nbconvert_exporter": "python",
   "pygments_lexer": "ipython3",
   "version": "3.11.2"
  }
 },
 "nbformat": 4,
 "nbformat_minor": 5
}
