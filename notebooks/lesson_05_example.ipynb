{
 "cells": [
  {
   "cell_type": "markdown",
   "id": "56e21062",
   "metadata": {},
   "source": [
    "# Chapter 2, gradient descent"
   ]
  },
  {
   "cell_type": "markdown",
   "id": "5b352bf0",
   "metadata": {},
   "source": [
    "## 1. The Input Data: A Grid of Pixels\n",
    "\n",
    "Our goal is to classify handwritten digits. The data for this task consists of images rendered on a **28x28 pixel grid**. Each pixel has a grayscale value, typically ranging from **0 (black)** to **1 (white)**.\n",
    "\n",
    "These raw pixel values become the initial input for our network. Since there are $28 \\times 28 = 784$ pixels, they will determine the activation of **784 neurons** in the network's first layer.\n",
    "\n",
    "Let's load a sample digit from the popular MNIST dataset to see what one looks like."
   ]
  },
  {
   "cell_type": "code",
   "execution_count": null,
   "id": "1e72223d",
   "metadata": {},
   "outputs": [
    {
     "name": "stdout",
     "output_type": "stream",
     "text": [
      "Downloading train data\n",
      "Downloading https://raw.githubusercontent.com/fgnt/mnist/master/train-images-idx3-ubyte.gz\n",
      "Done.\n",
      "Downloading https://raw.githubusercontent.com/fgnt/mnist/master/train-labels-idx1-ubyte.gz\n",
      "Done.\n",
      "Downloading test data\n",
      "Downloading https://raw.githubusercontent.com/fgnt/mnist/master/t10k-images-idx3-ubyte.gz\n",
      "Done.\n",
      "Downloading https://raw.githubusercontent.com/fgnt/mnist/master/t10k-labels-idx1-ubyte.gz\n",
      "Done.\n",
      "✅ Data loaded successfully!\n",
      "Training images shape: (60000, 28, 28)\n"
     ]
    }
   ],
   "source": [
    "from utils import get_mnist\n",
    "\n",
    "x_train, y_train, x_test, y_test = get_mnist()\n",
    "print(\"✅ Data loaded successfully!\")\n",
    "print(f\"Training images shape: {x_train.shape}\")"
   ]
  },
  {
   "cell_type": "markdown",
   "id": "ac024497",
   "metadata": {},
   "source": [
    "## 2. The Network's Architecture\n",
    "\n",
    "The activation for each neuron is calculated based on the activations from the previous layer. This is done by taking a **weighted sum** of all previous activations, adding a special number called a **bias**, and then passing the result through an \"activation function\" (like Sigmoid or ReLU).\n",
    "\n",
    "The formula for a layer's output can be expressed with the following equation:\n",
    "\n",
    "$$\\mathbf{a}_{\\text{L}} = f(\\mathbf{W}_{\\text{L}} \\cdot \\mathbf{a}_{\\text{L-1}} + \\mathbf{b}_{\\text{L}})$$\n",
    "\n",
    "Where:\n",
    "* $\\mathbf{a}_{\\text{L}}$ is the vector of activations for the current layer (L).\n",
    "* $f$ is the activation function (e.g., ReLU or Sigmoid).\n",
    "* $\\mathbf{W}_{\\text{L}}$ is the weight matrix for the current layer.\n",
    "* $\\mathbf{a}_{\\text{L-1}}$ is the vector of activations from the previous layer (L-1).\n",
    "* $\\mathbf{b}_{\\text{L}}$ is the bias vector for the current layer.\n",
    "\n",
    "Our network will have the following structure:\n",
    "- **Input Layer:** 784 neurons\n",
    "- **Hidden Layer 1:** 16 neurons\n",
    "- **Hidden Layer 2:** 16 neurons\n",
    "- **Output Layer:** 10 neurons (one for each digit, 0-9)\n",
    "\n",
    "This structure contains thousands of adjustable **weights and biases**. Let's calculate exactly how many."
   ]
  },
  {
   "cell_type": "markdown",
   "id": "2a814bfc",
   "metadata": {},
   "source": []
  },
  {
   "cell_type": "code",
   "execution_count": null,
   "id": "ea91c4ac",
   "metadata": {},
   "outputs": [],
   "source": [
    "# Define the network architecture\n",
    "n_input = 784\n",
    "n_hidden1 = 16\n",
    "n_hidden2 = 16\n",
    "n_output = 10\n",
    "\n",
    "# Calculate weights and biases for each connection\n",
    "# Layer 1 (Input -> Hidden 1)\n",
    "params_l1 = (n_input * n_hidden1) + n_hidden1\n",
    "\n",
    "# Layer 2 (Hidden 1 -> Hidden 2)\n",
    "params_l2 = (n_hidden1 * n_hidden2) + n_hidden2\n",
    "\n",
    "# Layer 3 (Hidden 2 -> Output)\n",
    "params_l3 = (n_hidden2 * n_output) + n_output\n",
    "\n",
    "total_params = params_l1 + params_l2 + params_l3\n",
    "\n",
    "print(f\"Parameters for Input -> Hidden 1: {params_l1}\")\n",
    "print(f\"Parameters for Hidden 1 -> Hidden 2: {params_l2}\")\n",
    "print(f\"Parameters for Hidden 2 -> Output: {params_l3}\")\n",
    "print(\"-\" * 40)\n",
    "print(f\"Total Adjustable Parameters in the Network: {total_params}\")"
   ]
  },
  {
   "cell_type": "markdown",
   "id": "ec9a544b",
   "metadata": {},
   "source": [
    "## 1. Load and Inspect the Data\n",
    "\n",
    "First, we'll execute the provided `get_mnist` function. This will download the four dataset files, parse them into NumPy arrays, and return the training and testing sets. We'll then print the shapes of the arrays and visualize a sample to confirm that the data has been loaded correctly."
   ]
  },
  {
   "cell_type": "code",
   "execution_count": 2,
   "id": "01476bda",
   "metadata": {},
   "outputs": [
    {
     "name": "stdout",
     "output_type": "stream",
     "text": [
      "Downloading and parsing https://raw.githubusercontent.com/fgnt/mnist/master/train-images-idx3-ubyte.gz\n",
      "Downloading and parsing https://raw.githubusercontent.com/fgnt/mnist/master/train-labels-idx1-ubyte.gz\n",
      "Downloading and parsing https://raw.githubusercontent.com/fgnt/mnist/master/t10k-images-idx3-ubyte.gz\n",
      "Downloading and parsing https://raw.githubusercontent.com/fgnt/mnist/master/t10k-labels-idx1-ubyte.gz\n",
      "\n",
      "✅ Data loaded successfully!\n",
      "Training images shape: (60000, 28, 28)\n",
      "Training labels shape: (60000,)\n",
      "Testing images shape: (10000, 28, 28)\n",
      "Testing labels shape: (10000,)\n"
     ]
    },
    {
     "data": {
      "image/png": "[encoded data removed]",
      "text/plain": [
       "<Figure size 400x400 with 1 Axes>"
      ]
     },
     "metadata": {},
     "output_type": "display_data"
    }
   ],
   "source": [
    "import matplotlib.pyplot as plt\n",
    "import numpy as np\n",
    "\n",
    "from utils import get_mnist_corrected\n",
    "\n",
    "x_train, y_train, x_test, y_test = get_mnist_corrected()\n",
    "\n",
    "# Print the shapes to verify\n",
    "print(\"\\n✅ Data loaded successfully!\")\n",
    "print(f\"Training images shape: {x_train.shape}\")\n",
    "print(f\"Training labels shape: {y_train.shape}\")\n",
    "print(f\"Testing images shape: {x_test.shape}\")\n",
    "print(f\"Testing labels shape: {y_test.shape}\")\n",
    "\n",
    "# Visualize a sample\n",
    "plt.figure(figsize=(4, 4))\n",
    "plt.imshow(x_train[0], cmap='gray')\n",
    "plt.title(f\"Label: {y_train[0]}\")\n",
    "plt.grid(False)\n",
    "plt.show()"
   ]
  },
  {
   "cell_type": "markdown",
   "id": "d90c6eee",
   "metadata": {},
   "source": [
    "## 2. Prepare Data and Build the Classifier\n",
    "\n",
    "Now that we have the data, we'll prepare it for our model and build a simple **multiclass logistic regression** classifier, just as we did before.\n",
    "\n",
    "1.  **Flatten Images**: Reshape each 28x28 image into a single 784-element vector.\n",
    "2.  **Initialize Parameters**: Create the weight `W` and bias `b` matrices with random values.\n",
    "3.  **Train the Model**: Use a training loop to adjust the weights and biases to minimize the error (loss)."
   ]
  },
  {
   "cell_type": "code",
   "execution_count": 11,
   "id": "d59c166c",
   "metadata": {},
   "outputs": [
    {
     "name": "stdout",
     "output_type": "stream",
     "text": [
      "Shape of flattened training data: (60000, 784)\n",
      "Iteration 0, Loss: 2.3009\n",
      "Iteration 100, Loss: 0.6096\n",
      "Iteration 200, Loss: 0.4898\n",
      "Iteration 300, Loss: 0.4406\n",
      "Iteration 400, Loss: 0.4123\n",
      "Iteration 500, Loss: 0.3933\n",
      "Iteration 600, Loss: 0.3795\n",
      "Iteration 700, Loss: 0.3688\n",
      "Iteration 800, Loss: 0.3602\n",
      "Iteration 900, Loss: 0.3530\n",
      "\n",
      "✅ Training complete!\n"
     ]
    }
   ],
   "source": [
    "# --- 1. Prepare the Data ---\n",
    "# Flatten the images from 28x28 to 784. Normalization was already done.\n",
    "x_train_flat = x_train.reshape(x_train.shape[0], -1)\n",
    "x_test_flat = x_test.reshape(x_test.shape[0], -1)\n",
    "print(f\"Shape of flattened training data: {x_train_flat.shape}\")\n",
    "\n",
    "# --- 2. Build and Train the Classifier ---\n",
    "def softmax(z):\n",
    "    exp_z = np.exp(z - np.max(z, axis=1, keepdims=True))\n",
    "    return exp_z / np.sum(exp_z, axis=1, keepdims=True)\n",
    "\n",
    "# Initialize Weights and Biases\n",
    "num_features, num_classes = 784, 10\n",
    "W = np.random.randn(num_features, num_classes) * 0.01\n",
    "b = np.zeros((1, num_classes))\n",
    "\n",
    "# Training Settings\n",
    "learning_rate = 0.1\n",
    "iterations = 1000\n",
    "y_train_one_hot = np.eye(num_classes)[y_train]\n",
    "\n",
    "# Training Loop\n",
    "for i in range(iterations):\n",
    "    # Forward Pass\n",
    "    scores = x_train_flat @ W + b\n",
    "    probabilities = softmax(scores)\n",
    "    \n",
    "    # Loss Calculation\n",
    "    loss = -np.mean(np.sum(y_train_one_hot * np.log(probabilities + 1e-9), axis=1))\n",
    "    if i % 100 == 0:\n",
    "        print(f\"Iteration {i}, Loss: {loss:.4f}\")\n",
    "        \n",
    "    # Backward Pass (Gradient Calculation)\n",
    "    d_scores = probabilities - y_train_one_hot\n",
    "    dW = (x_train_flat.T @ d_scores) / x_train_flat.shape[0]\n",
    "    db = np.sum(d_scores, axis=0, keepdims=True) / x_train_flat.shape[0]\n",
    "    \n",
    "    # Update Parameters\n",
    "    W -= learning_rate * dW\n",
    "    b -= learning_rate * db\n",
    "\n",
    "print(\"\\n✅ Training complete!\")"
   ]
  },
  {
   "cell_type": "markdown",
   "id": "51af6135",
   "metadata": {},
   "source": [
    "## 3. Evaluate the Model\n",
    "\n",
    "Finally, we'll use the trained weights and biases to make predictions on the **test data** and calculate the final accuracy of our model."
   ]
  },
  {
   "cell_type": "code",
   "execution_count": 12,
   "id": "32d1ad49",
   "metadata": {},
   "outputs": [
    {
     "name": "stdout",
     "output_type": "stream",
     "text": [
      "Model Accuracy on Test Data: 91.00%\n"
     ]
    },
    {
     "data": {
      "image/png": "[encoded data removed]",
      "text/plain": [
       "<Figure size 1200x600 with 10 Axes>"
      ]
     },
     "metadata": {},
     "output_type": "display_data"
    }
   ],
   "source": [
    "# Make predictions on the test set\n",
    "test_scores = x_test_flat @ W + b\n",
    "test_probabilities = softmax(test_scores)\n",
    "predictions = np.argmax(test_probabilities, axis=1)\n",
    "\n",
    "# Calculate accuracy\n",
    "accuracy = np.mean(predictions == y_test) * 100\n",
    "print(f\"Model Accuracy on Test Data: {accuracy:.2f}%\")\n",
    "\n",
    "# Visualize some predictions\n",
    "fig, axes = plt.subplots(2, 5, figsize=(12, 6))\n",
    "axes = axes.ravel()\n",
    "for i in range(10):\n",
    "    axes[i].imshow(x_test[i], cmap='gray')\n",
    "    axes[i].set_title(f\"True: {y_test[i]}\\nPred: {predictions[i]}\")\n",
    "    axes[i].axis('off')\n",
    "plt.suptitle(\"Sample Test Predictions\")\n",
    "plt.show()"
   ]
  }
 ],
 "metadata": {
  "kernelspec": {
   "display_name": ".venv",
   "language": "python",
   "name": "python3"
  },
  "language_info": {
   "codemirror_mode": {
    "name": "ipython",
    "version": 3
   },
   "file_extension": ".py",
   "mimetype": "text/x-python",
   "name": "python",
   "nbconvert_exporter": "python",
   "pygments_lexer": "ipython3",
   "version": "3.13.5"
  }
 },
 "nbformat": 4,
 "nbformat_minor": 5
}
